{
  "nbformat": 4,
  "nbformat_minor": 0,
  "metadata": {
    "colab": {
      "provenance": [],
      "authorship_tag": "ABX9TyOjEjPWkzsoPc6xWCxs4P0C",
      "include_colab_link": true
    },
    "kernelspec": {
      "name": "python3",
      "display_name": "Python 3"
    },
    "language_info": {
      "name": "python"
    }
  },
  "cells": [
    {
      "cell_type": "markdown",
      "metadata": {
        "id": "view-in-github",
        "colab_type": "text"
      },
      "source": [
        "<a href=\"https://colab.research.google.com/github/marwafarid33/Personalized-Diet-Plan/blob/main/Untitled9.ipynb\" target=\"_parent\"><img src=\"https://colab.research.google.com/assets/colab-badge.svg\" alt=\"Open In Colab\"/></a>"
      ]
    },
    {
      "cell_type": "code",
      "execution_count": null,
      "metadata": {
        "id": "2LmxfpuoWjZ8"
      },
      "outputs": [],
      "source": [
        "import pandas as pd\n",
        "from sklearn.cluster import KMeans\n",
        "import matplotlib.pyplot as plt\n",
        "import numpy as np\n",
        "from sklearn.preprocessing import LabelEncoder"
      ]
    },
    {
      "cell_type": "code",
      "source": [
        "data = pd.read_csv('Food_Nutrition__.csv')\n",
        "data.head()\n",
        "\n",
        "\n"
      ],
      "metadata": {
        "colab": {
          "base_uri": "https://localhost:8080/",
          "height": 573
        },
        "id": "uOtTHGSndglL",
        "outputId": "44ced6fe-2061-447d-f024-b0805d137f8f"
      },
      "execution_count": null,
      "outputs": [
        {
          "output_type": "execute_result",
          "data": {
            "text/plain": [
              "   Ages  Gender  Height  Weight     Activity Level Dietary Preference  \\\n",
              "0    25    Male     180      80  Moderately Active           Omnivore   \n",
              "1    32  Female     165      65     Lightly Active         Vegetarian   \n",
              "2    48    Male     175      95          Sedentary              Vegan   \n",
              "3    55  Female     160      70        Very Active           Omnivore   \n",
              "4    62    Male     170      85          Sedentary         Vegetarian   \n",
              "\n",
              "   Daily Calorie Target  Protein  Sugar  Sodium  Calories  Carbohydrates  \\\n",
              "0                  2000      120  125.0    24.0      2020            250   \n",
              "1                  1600       80  100.0    16.0      1480            200   \n",
              "2                  2200      100  150.0    20.0      2185            300   \n",
              "3                  2500      140  175.0    28.0      2680            350   \n",
              "4                  2000       80  125.0    16.0      1815            250   \n",
              "\n",
              "   Fiber  Fat                               Breakfast Suggestion  \\\n",
              "0   30.0   60                      Oatmeal with berries and nuts   \n",
              "1   24.0   40                         Tofu scramble with veggies   \n",
              "2   36.0   65                  Tofu and veggie breakfast burrito   \n",
              "3   42.0   80                Greek yogurt with granola and fruit   \n",
              "4   30.0   55  Scrambled eggs with whole wheat toast and avocado   \n",
              "\n",
              "                             Lunch Suggestion  \\\n",
              "0     Grilled chicken salad with mixed greens   \n",
              "1          Lentil soup with whole wheat bread   \n",
              "2      Black bean burger on a whole wheat bun   \n",
              "3              Chicken and vegetable stir-fry   \n",
              "4  Quinoa salad with chickpeas and vegetables   \n",
              "\n",
              "                    Dinner Suggestion           Snack Suggestion  \\\n",
              "0      Salmon with roasted vegetables    Greek yogurt with fruit   \n",
              "1  Vegetable stir-fry with brown rice   Apple with almond butter   \n",
              "2          Lentil and vegetable curry                  Trail mix   \n",
              "3        Turkey chili with brown rice  Banana with peanut butter   \n",
              "4     Vegetarian chili with cornbread          Fruit and nut mix   \n",
              "\n",
              "                                    Disease  \n",
              "0                               Weight Gain  \n",
              "1  Weight Gain, Hypertension, Heart Disease  \n",
              "2                               Weight Gain  \n",
              "3                               Weight Gain  \n",
              "4                               Weight Gain  "
            ],
            "text/html": [
              "\n",
              "  <div id=\"df-b4e3f8a6-f2eb-40a3-bd69-0dfb637f7609\" class=\"colab-df-container\">\n",
              "    <div>\n",
              "<style scoped>\n",
              "    .dataframe tbody tr th:only-of-type {\n",
              "        vertical-align: middle;\n",
              "    }\n",
              "\n",
              "    .dataframe tbody tr th {\n",
              "        vertical-align: top;\n",
              "    }\n",
              "\n",
              "    .dataframe thead th {\n",
              "        text-align: right;\n",
              "    }\n",
              "</style>\n",
              "<table border=\"1\" class=\"dataframe\">\n",
              "  <thead>\n",
              "    <tr style=\"text-align: right;\">\n",
              "      <th></th>\n",
              "      <th>Ages</th>\n",
              "      <th>Gender</th>\n",
              "      <th>Height</th>\n",
              "      <th>Weight</th>\n",
              "      <th>Activity Level</th>\n",
              "      <th>Dietary Preference</th>\n",
              "      <th>Daily Calorie Target</th>\n",
              "      <th>Protein</th>\n",
              "      <th>Sugar</th>\n",
              "      <th>Sodium</th>\n",
              "      <th>Calories</th>\n",
              "      <th>Carbohydrates</th>\n",
              "      <th>Fiber</th>\n",
              "      <th>Fat</th>\n",
              "      <th>Breakfast Suggestion</th>\n",
              "      <th>Lunch Suggestion</th>\n",
              "      <th>Dinner Suggestion</th>\n",
              "      <th>Snack Suggestion</th>\n",
              "      <th>Disease</th>\n",
              "    </tr>\n",
              "  </thead>\n",
              "  <tbody>\n",
              "    <tr>\n",
              "      <th>0</th>\n",
              "      <td>25</td>\n",
              "      <td>Male</td>\n",
              "      <td>180</td>\n",
              "      <td>80</td>\n",
              "      <td>Moderately Active</td>\n",
              "      <td>Omnivore</td>\n",
              "      <td>2000</td>\n",
              "      <td>120</td>\n",
              "      <td>125.0</td>\n",
              "      <td>24.0</td>\n",
              "      <td>2020</td>\n",
              "      <td>250</td>\n",
              "      <td>30.0</td>\n",
              "      <td>60</td>\n",
              "      <td>Oatmeal with berries and nuts</td>\n",
              "      <td>Grilled chicken salad with mixed greens</td>\n",
              "      <td>Salmon with roasted vegetables</td>\n",
              "      <td>Greek yogurt with fruit</td>\n",
              "      <td>Weight Gain</td>\n",
              "    </tr>\n",
              "    <tr>\n",
              "      <th>1</th>\n",
              "      <td>32</td>\n",
              "      <td>Female</td>\n",
              "      <td>165</td>\n",
              "      <td>65</td>\n",
              "      <td>Lightly Active</td>\n",
              "      <td>Vegetarian</td>\n",
              "      <td>1600</td>\n",
              "      <td>80</td>\n",
              "      <td>100.0</td>\n",
              "      <td>16.0</td>\n",
              "      <td>1480</td>\n",
              "      <td>200</td>\n",
              "      <td>24.0</td>\n",
              "      <td>40</td>\n",
              "      <td>Tofu scramble with veggies</td>\n",
              "      <td>Lentil soup with whole wheat bread</td>\n",
              "      <td>Vegetable stir-fry with brown rice</td>\n",
              "      <td>Apple with almond butter</td>\n",
              "      <td>Weight Gain, Hypertension, Heart Disease</td>\n",
              "    </tr>\n",
              "    <tr>\n",
              "      <th>2</th>\n",
              "      <td>48</td>\n",
              "      <td>Male</td>\n",
              "      <td>175</td>\n",
              "      <td>95</td>\n",
              "      <td>Sedentary</td>\n",
              "      <td>Vegan</td>\n",
              "      <td>2200</td>\n",
              "      <td>100</td>\n",
              "      <td>150.0</td>\n",
              "      <td>20.0</td>\n",
              "      <td>2185</td>\n",
              "      <td>300</td>\n",
              "      <td>36.0</td>\n",
              "      <td>65</td>\n",
              "      <td>Tofu and veggie breakfast burrito</td>\n",
              "      <td>Black bean burger on a whole wheat bun</td>\n",
              "      <td>Lentil and vegetable curry</td>\n",
              "      <td>Trail mix</td>\n",
              "      <td>Weight Gain</td>\n",
              "    </tr>\n",
              "    <tr>\n",
              "      <th>3</th>\n",
              "      <td>55</td>\n",
              "      <td>Female</td>\n",
              "      <td>160</td>\n",
              "      <td>70</td>\n",
              "      <td>Very Active</td>\n",
              "      <td>Omnivore</td>\n",
              "      <td>2500</td>\n",
              "      <td>140</td>\n",
              "      <td>175.0</td>\n",
              "      <td>28.0</td>\n",
              "      <td>2680</td>\n",
              "      <td>350</td>\n",
              "      <td>42.0</td>\n",
              "      <td>80</td>\n",
              "      <td>Greek yogurt with granola and fruit</td>\n",
              "      <td>Chicken and vegetable stir-fry</td>\n",
              "      <td>Turkey chili with brown rice</td>\n",
              "      <td>Banana with peanut butter</td>\n",
              "      <td>Weight Gain</td>\n",
              "    </tr>\n",
              "    <tr>\n",
              "      <th>4</th>\n",
              "      <td>62</td>\n",
              "      <td>Male</td>\n",
              "      <td>170</td>\n",
              "      <td>85</td>\n",
              "      <td>Sedentary</td>\n",
              "      <td>Vegetarian</td>\n",
              "      <td>2000</td>\n",
              "      <td>80</td>\n",
              "      <td>125.0</td>\n",
              "      <td>16.0</td>\n",
              "      <td>1815</td>\n",
              "      <td>250</td>\n",
              "      <td>30.0</td>\n",
              "      <td>55</td>\n",
              "      <td>Scrambled eggs with whole wheat toast and avocado</td>\n",
              "      <td>Quinoa salad with chickpeas and vegetables</td>\n",
              "      <td>Vegetarian chili with cornbread</td>\n",
              "      <td>Fruit and nut mix</td>\n",
              "      <td>Weight Gain</td>\n",
              "    </tr>\n",
              "  </tbody>\n",
              "</table>\n",
              "</div>\n",
              "    <div class=\"colab-df-buttons\">\n",
              "\n",
              "  <div class=\"colab-df-container\">\n",
              "    <button class=\"colab-df-convert\" onclick=\"convertToInteractive('df-b4e3f8a6-f2eb-40a3-bd69-0dfb637f7609')\"\n",
              "            title=\"Convert this dataframe to an interactive table.\"\n",
              "            style=\"display:none;\">\n",
              "\n",
              "  <svg xmlns=\"http://www.w3.org/2000/svg\" height=\"24px\" viewBox=\"0 -960 960 960\">\n",
              "    <path d=\"M120-120v-720h720v720H120Zm60-500h600v-160H180v160Zm220 220h160v-160H400v160Zm0 220h160v-160H400v160ZM180-400h160v-160H180v160Zm440 0h160v-160H620v160ZM180-180h160v-160H180v160Zm440 0h160v-160H620v160Z\"/>\n",
              "  </svg>\n",
              "    </button>\n",
              "\n",
              "  <style>\n",
              "    .colab-df-container {\n",
              "      display:flex;\n",
              "      gap: 12px;\n",
              "    }\n",
              "\n",
              "    .colab-df-convert {\n",
              "      background-color: #E8F0FE;\n",
              "      border: none;\n",
              "      border-radius: 50%;\n",
              "      cursor: pointer;\n",
              "      display: none;\n",
              "      fill: #1967D2;\n",
              "      height: 32px;\n",
              "      padding: 0 0 0 0;\n",
              "      width: 32px;\n",
              "    }\n",
              "\n",
              "    .colab-df-convert:hover {\n",
              "      background-color: #E2EBFA;\n",
              "      box-shadow: 0px 1px 2px rgba(60, 64, 67, 0.3), 0px 1px 3px 1px rgba(60, 64, 67, 0.15);\n",
              "      fill: #174EA6;\n",
              "    }\n",
              "\n",
              "    .colab-df-buttons div {\n",
              "      margin-bottom: 4px;\n",
              "    }\n",
              "\n",
              "    [theme=dark] .colab-df-convert {\n",
              "      background-color: #3B4455;\n",
              "      fill: #D2E3FC;\n",
              "    }\n",
              "\n",
              "    [theme=dark] .colab-df-convert:hover {\n",
              "      background-color: #434B5C;\n",
              "      box-shadow: 0px 1px 3px 1px rgba(0, 0, 0, 0.15);\n",
              "      filter: drop-shadow(0px 1px 2px rgba(0, 0, 0, 0.3));\n",
              "      fill: #FFFFFF;\n",
              "    }\n",
              "  </style>\n",
              "\n",
              "    <script>\n",
              "      const buttonEl =\n",
              "        document.querySelector('#df-b4e3f8a6-f2eb-40a3-bd69-0dfb637f7609 button.colab-df-convert');\n",
              "      buttonEl.style.display =\n",
              "        google.colab.kernel.accessAllowed ? 'block' : 'none';\n",
              "\n",
              "      async function convertToInteractive(key) {\n",
              "        const element = document.querySelector('#df-b4e3f8a6-f2eb-40a3-bd69-0dfb637f7609');\n",
              "        const dataTable =\n",
              "          await google.colab.kernel.invokeFunction('convertToInteractive',\n",
              "                                                    [key], {});\n",
              "        if (!dataTable) return;\n",
              "\n",
              "        const docLinkHtml = 'Like what you see? Visit the ' +\n",
              "          '<a target=\"_blank\" href=https://colab.research.google.com/notebooks/data_table.ipynb>data table notebook</a>'\n",
              "          + ' to learn more about interactive tables.';\n",
              "        element.innerHTML = '';\n",
              "        dataTable['output_type'] = 'display_data';\n",
              "        await google.colab.output.renderOutput(dataTable, element);\n",
              "        const docLink = document.createElement('div');\n",
              "        docLink.innerHTML = docLinkHtml;\n",
              "        element.appendChild(docLink);\n",
              "      }\n",
              "    </script>\n",
              "  </div>\n",
              "\n",
              "\n",
              "<div id=\"df-be411397-1d51-488c-9db7-755495e0278f\">\n",
              "  <button class=\"colab-df-quickchart\" onclick=\"quickchart('df-be411397-1d51-488c-9db7-755495e0278f')\"\n",
              "            title=\"Suggest charts\"\n",
              "            style=\"display:none;\">\n",
              "\n",
              "<svg xmlns=\"http://www.w3.org/2000/svg\" height=\"24px\"viewBox=\"0 0 24 24\"\n",
              "     width=\"24px\">\n",
              "    <g>\n",
              "        <path d=\"M19 3H5c-1.1 0-2 .9-2 2v14c0 1.1.9 2 2 2h14c1.1 0 2-.9 2-2V5c0-1.1-.9-2-2-2zM9 17H7v-7h2v7zm4 0h-2V7h2v10zm4 0h-2v-4h2v4z\"/>\n",
              "    </g>\n",
              "</svg>\n",
              "  </button>\n",
              "\n",
              "<style>\n",
              "  .colab-df-quickchart {\n",
              "      --bg-color: #E8F0FE;\n",
              "      --fill-color: #1967D2;\n",
              "      --hover-bg-color: #E2EBFA;\n",
              "      --hover-fill-color: #174EA6;\n",
              "      --disabled-fill-color: #AAA;\n",
              "      --disabled-bg-color: #DDD;\n",
              "  }\n",
              "\n",
              "  [theme=dark] .colab-df-quickchart {\n",
              "      --bg-color: #3B4455;\n",
              "      --fill-color: #D2E3FC;\n",
              "      --hover-bg-color: #434B5C;\n",
              "      --hover-fill-color: #FFFFFF;\n",
              "      --disabled-bg-color: #3B4455;\n",
              "      --disabled-fill-color: #666;\n",
              "  }\n",
              "\n",
              "  .colab-df-quickchart {\n",
              "    background-color: var(--bg-color);\n",
              "    border: none;\n",
              "    border-radius: 50%;\n",
              "    cursor: pointer;\n",
              "    display: none;\n",
              "    fill: var(--fill-color);\n",
              "    height: 32px;\n",
              "    padding: 0;\n",
              "    width: 32px;\n",
              "  }\n",
              "\n",
              "  .colab-df-quickchart:hover {\n",
              "    background-color: var(--hover-bg-color);\n",
              "    box-shadow: 0 1px 2px rgba(60, 64, 67, 0.3), 0 1px 3px 1px rgba(60, 64, 67, 0.15);\n",
              "    fill: var(--button-hover-fill-color);\n",
              "  }\n",
              "\n",
              "  .colab-df-quickchart-complete:disabled,\n",
              "  .colab-df-quickchart-complete:disabled:hover {\n",
              "    background-color: var(--disabled-bg-color);\n",
              "    fill: var(--disabled-fill-color);\n",
              "    box-shadow: none;\n",
              "  }\n",
              "\n",
              "  .colab-df-spinner {\n",
              "    border: 2px solid var(--fill-color);\n",
              "    border-color: transparent;\n",
              "    border-bottom-color: var(--fill-color);\n",
              "    animation:\n",
              "      spin 1s steps(1) infinite;\n",
              "  }\n",
              "\n",
              "  @keyframes spin {\n",
              "    0% {\n",
              "      border-color: transparent;\n",
              "      border-bottom-color: var(--fill-color);\n",
              "      border-left-color: var(--fill-color);\n",
              "    }\n",
              "    20% {\n",
              "      border-color: transparent;\n",
              "      border-left-color: var(--fill-color);\n",
              "      border-top-color: var(--fill-color);\n",
              "    }\n",
              "    30% {\n",
              "      border-color: transparent;\n",
              "      border-left-color: var(--fill-color);\n",
              "      border-top-color: var(--fill-color);\n",
              "      border-right-color: var(--fill-color);\n",
              "    }\n",
              "    40% {\n",
              "      border-color: transparent;\n",
              "      border-right-color: var(--fill-color);\n",
              "      border-top-color: var(--fill-color);\n",
              "    }\n",
              "    60% {\n",
              "      border-color: transparent;\n",
              "      border-right-color: var(--fill-color);\n",
              "    }\n",
              "    80% {\n",
              "      border-color: transparent;\n",
              "      border-right-color: var(--fill-color);\n",
              "      border-bottom-color: var(--fill-color);\n",
              "    }\n",
              "    90% {\n",
              "      border-color: transparent;\n",
              "      border-bottom-color: var(--fill-color);\n",
              "    }\n",
              "  }\n",
              "</style>\n",
              "\n",
              "  <script>\n",
              "    async function quickchart(key) {\n",
              "      const quickchartButtonEl =\n",
              "        document.querySelector('#' + key + ' button');\n",
              "      quickchartButtonEl.disabled = true;  // To prevent multiple clicks.\n",
              "      quickchartButtonEl.classList.add('colab-df-spinner');\n",
              "      try {\n",
              "        const charts = await google.colab.kernel.invokeFunction(\n",
              "            'suggestCharts', [key], {});\n",
              "      } catch (error) {\n",
              "        console.error('Error during call to suggestCharts:', error);\n",
              "      }\n",
              "      quickchartButtonEl.classList.remove('colab-df-spinner');\n",
              "      quickchartButtonEl.classList.add('colab-df-quickchart-complete');\n",
              "    }\n",
              "    (() => {\n",
              "      let quickchartButtonEl =\n",
              "        document.querySelector('#df-be411397-1d51-488c-9db7-755495e0278f button');\n",
              "      quickchartButtonEl.style.display =\n",
              "        google.colab.kernel.accessAllowed ? 'block' : 'none';\n",
              "    })();\n",
              "  </script>\n",
              "</div>\n",
              "\n",
              "    </div>\n",
              "  </div>\n"
            ],
            "application/vnd.google.colaboratory.intrinsic+json": {
              "type": "dataframe",
              "variable_name": "data",
              "summary": "{\n  \"name\": \"data\",\n  \"rows\": 1698,\n  \"fields\": [\n    {\n      \"column\": \"Ages\",\n      \"properties\": {\n        \"dtype\": \"number\",\n        \"std\": 15,\n        \"min\": 18,\n        \"max\": 79,\n        \"num_unique_values\": 62,\n        \"samples\": [\n          26,\n          43,\n          25\n        ],\n        \"semantic_type\": \"\",\n        \"description\": \"\"\n      }\n    },\n    {\n      \"column\": \"Gender\",\n      \"properties\": {\n        \"dtype\": \"category\",\n        \"num_unique_values\": 2,\n        \"samples\": [\n          \"Female\",\n          \"Male\"\n        ],\n        \"semantic_type\": \"\",\n        \"description\": \"\"\n      }\n    },\n    {\n      \"column\": \"Height\",\n      \"properties\": {\n        \"dtype\": \"number\",\n        \"std\": 13,\n        \"min\": 150,\n        \"max\": 200,\n        \"num_unique_values\": 51,\n        \"samples\": [\n          159,\n          189\n        ],\n        \"semantic_type\": \"\",\n        \"description\": \"\"\n      }\n    },\n    {\n      \"column\": \"Weight\",\n      \"properties\": {\n        \"dtype\": \"number\",\n        \"std\": 16,\n        \"min\": 48,\n        \"max\": 119,\n        \"num_unique_values\": 71,\n        \"samples\": [\n          115,\n          80\n        ],\n        \"semantic_type\": \"\",\n        \"description\": \"\"\n      }\n    },\n    {\n      \"column\": \"Activity Level\",\n      \"properties\": {\n        \"dtype\": \"category\",\n        \"num_unique_values\": 5,\n        \"samples\": [\n          \"Lightly Active\",\n          \"Extremely Active\"\n        ],\n        \"semantic_type\": \"\",\n        \"description\": \"\"\n      }\n    },\n    {\n      \"column\": \"Dietary Preference\",\n      \"properties\": {\n        \"dtype\": \"category\",\n        \"num_unique_values\": 4,\n        \"samples\": [\n          \"Vegetarian\",\n          \"Pescatarian\"\n        ],\n        \"semantic_type\": \"\",\n        \"description\": \"\"\n      }\n    },\n    {\n      \"column\": \"Daily Calorie Target\",\n      \"properties\": {\n        \"dtype\": \"number\",\n        \"std\": 558,\n        \"min\": 1200,\n        \"max\": 4364,\n        \"num_unique_values\": 895,\n        \"samples\": [\n          1782,\n          1828\n        ],\n        \"semantic_type\": \"\",\n        \"description\": \"\"\n      }\n    },\n    {\n      \"column\": \"Protein\",\n      \"properties\": {\n        \"dtype\": \"number\",\n        \"std\": 53,\n        \"min\": 50,\n        \"max\": 327,\n        \"num_unique_values\": 231,\n        \"samples\": [\n          272,\n          72\n        ],\n        \"semantic_type\": \"\",\n        \"description\": \"\"\n      }\n    },\n    {\n      \"column\": \"Sugar\",\n      \"properties\": {\n        \"dtype\": \"number\",\n        \"std\": 34.93890219462492,\n        \"min\": 60.0,\n        \"max\": 218.0,\n        \"num_unique_values\": 276,\n        \"samples\": [\n          158.0,\n          172.0\n        ],\n        \"semantic_type\": \"\",\n        \"description\": \"\"\n      }\n    },\n    {\n      \"column\": \"Sodium\",\n      \"properties\": {\n        \"dtype\": \"number\",\n        \"std\": 10.6653176771373,\n        \"min\": 10.0,\n        \"max\": 65.4,\n        \"num_unique_values\": 231,\n        \"samples\": [\n          54.4,\n          14.4\n        ],\n        \"semantic_type\": \"\",\n        \"description\": \"\"\n      }\n    },\n    {\n      \"column\": \"Calories\",\n      \"properties\": {\n        \"dtype\": \"number\",\n        \"std\": 571,\n        \"min\": 990,\n        \"max\": 4357,\n        \"num_unique_values\": 759,\n        \"samples\": [\n          1698,\n          1804\n        ],\n        \"semantic_type\": \"\",\n        \"description\": \"\"\n      }\n    },\n    {\n      \"column\": \"Carbohydrates\",\n      \"properties\": {\n        \"dtype\": \"number\",\n        \"std\": 69,\n        \"min\": 120,\n        \"max\": 436,\n        \"num_unique_values\": 276,\n        \"samples\": [\n          316,\n          344\n        ],\n        \"semantic_type\": \"\",\n        \"description\": \"\"\n      }\n    },\n    {\n      \"column\": \"Fiber\",\n      \"properties\": {\n        \"dtype\": \"number\",\n        \"std\": 8.385336526709985,\n        \"min\": 14.4,\n        \"max\": 52.32,\n        \"num_unique_values\": 276,\n        \"samples\": [\n          37.92,\n          41.28\n        ],\n        \"semantic_type\": \"\",\n        \"description\": \"\"\n      }\n    },\n    {\n      \"column\": \"Fat\",\n      \"properties\": {\n        \"dtype\": \"number\",\n        \"std\": 21,\n        \"min\": 30,\n        \"max\": 145,\n        \"num_unique_values\": 103,\n        \"samples\": [\n          82,\n          87\n        ],\n        \"semantic_type\": \"\",\n        \"description\": \"\"\n      }\n    },\n    {\n      \"column\": \"Breakfast Suggestion\",\n      \"properties\": {\n        \"dtype\": \"category\",\n        \"num_unique_values\": 121,\n        \"samples\": [\n          \"Scrambled tofu with whole-wheat toast and avocado\",\n          \"Tofu and vegetable scramble with whole wheat toast\"\n        ],\n        \"semantic_type\": \"\",\n        \"description\": \"\"\n      }\n    },\n    {\n      \"column\": \"Lunch Suggestion\",\n      \"properties\": {\n        \"dtype\": \"category\",\n        \"num_unique_values\": 190,\n        \"samples\": [\n          \"Tuna salad sandwich on whole grain bread\",\n          \"Vegan chili with whole wheat bread\"\n        ],\n        \"semantic_type\": \"\",\n        \"description\": \"\"\n      }\n    },\n    {\n      \"column\": \"Dinner Suggestion\",\n      \"properties\": {\n        \"dtype\": \"category\",\n        \"num_unique_values\": 177,\n        \"samples\": [\n          \"Tofu stir-fry with brown rice and vegetables\",\n          \"Tuna with quinoa and roasted vegetables\"\n        ],\n        \"semantic_type\": \"\",\n        \"description\": \"\"\n      }\n    },\n    {\n      \"column\": \"Snack Suggestion\",\n      \"properties\": {\n        \"dtype\": \"category\",\n        \"num_unique_values\": 112,\n        \"samples\": [\n          \"Greek yogurt with berries\",\n          \"Fruit with yogurt\"\n        ],\n        \"semantic_type\": \"\",\n        \"description\": \"\"\n      }\n    },\n    {\n      \"column\": \"Disease\",\n      \"properties\": {\n        \"dtype\": \"category\",\n        \"num_unique_values\": 13,\n        \"samples\": [\n          \"Diabetes, Acne, Weight Gain, Hypertension, Heart Disease\",\n          \"Hypertension, Heart Disease\"\n        ],\n        \"semantic_type\": \"\",\n        \"description\": \"\"\n      }\n    }\n  ]\n}"
            }
          },
          "metadata": {},
          "execution_count": 3
        }
      ]
    },
    {
      "cell_type": "code",
      "source": [
        "data = data[['Ages' , 'Weight' , 'Activity Level' , 'Calories' , 'Dietary Preference']]"
      ],
      "metadata": {
        "id": "RACTnwzrxbB5"
      },
      "execution_count": null,
      "outputs": []
    },
    {
      "cell_type": "code",
      "source": [
        "data.dropna(inplace=True)"
      ],
      "metadata": {
        "id": "XO3gmBgfzCSO"
      },
      "execution_count": null,
      "outputs": []
    },
    {
      "cell_type": "code",
      "source": [
        "def Suggest_diet_plan(age, weight, activity_level, goal):\n",
        "  \"\"\"\n",
        "  اقتراح خطة غزائية بناءا على العمر ،الوزن ، مستوى النشاط، والهدف الغزائى\n",
        "  \"\"\"\n",
        "  if activity_level == \"Inactive\":\n",
        "    calories_base = weight * 20\n",
        "  elif activity_level == \"Moderately Active\":\n",
        "    calories_base = weight * 25\n",
        "  else:\n",
        "    calories_base = weight * 30\n",
        "\n",
        "  if goal == \"Weight Loss\":\n",
        "    calories_target = calories_base -500\n",
        "  elif goal == \"Weight Gain\":\n",
        "    calories_target = calories_base + 500\n",
        "  else:\n",
        "    calories_target = calories_base\n",
        "\n",
        "  protein = 0.3 * calories_target / 4\n",
        "  carbs = 0.5 * calories_target / 4\n",
        "  fat = 0.2 * calories_target / 9\n",
        "\n",
        "  return {\n",
        "      \"Calories Target\": calories_target,\n",
        "      \"Protein (g)\": round(protein, 2),\n",
        "      \"Carbs (g)\": round(carbs, 2),\n",
        "      \"Fat (g)\": round(fat, 2)\n",
        "  }\n",
        "\n"
      ],
      "metadata": {
        "id": "ssERBAh65cob"
      },
      "execution_count": null,
      "outputs": []
    },
    {
      "cell_type": "code",
      "source": [
        "user_age = int(input(\"Enter your age: \"))\n",
        "user_weight = float(input(\"Enter your weight (kg): \"))\n",
        "user_activity_level = input(\"Enter your activity level (Inactive, Moderately Active, Active): \")\n",
        "user_goal = input(\"Enter your goal (Weight Loss, Weight Gain, Maintain Weight): \")\n",
        "\n",
        "\n"
      ],
      "metadata": {
        "colab": {
          "base_uri": "https://localhost:8080/"
        },
        "id": "baeRKa-C_kzL",
        "outputId": "32b19094-33a7-4903-a33a-401ff6fb1123"
      },
      "execution_count": null,
      "outputs": [
        {
          "name": "stdout",
          "output_type": "stream",
          "text": [
            "Enter your age: 50\n",
            "Enter your weight (kg): 57\n",
            "Enter your activity level (Inactive, Moderately Active, Active): Active\n",
            "Enter your goal (Weight Loss, Weight Gain, Maintain Weight): weight Gain\n"
          ]
        }
      ]
    },
    {
      "cell_type": "code",
      "source": [
        "diet_plan = Suggest_diet_plan(user_age, user_weight, user_activity_level, user_goal)\n",
        "print(\"\\nSuggested Diet Plan:\")\n",
        "for Key, Value in diet_plan.items():\n",
        "  print(f\"{Key}: {Value}\")"
      ],
      "metadata": {
        "colab": {
          "base_uri": "https://localhost:8080/"
        },
        "id": "04SMlZMN8S1v",
        "outputId": "41fa52b0-2115-4b7a-9e22-c7519d106a50"
      },
      "execution_count": null,
      "outputs": [
        {
          "output_type": "stream",
          "name": "stdout",
          "text": [
            "\n",
            "Suggested Diet Plan:\n",
            "Calories Target: 1710.0\n",
            "Protein (g): 128.25\n",
            "Carbs (g): 213.75\n",
            "Fat (g): 38.0\n"
          ]
        }
      ]
    },
    {
      "cell_type": "code",
      "source": [
        "import pandas as pd\n",
        "data = pd.DataFrame({\n",
        "    'Ages': [user_age],\n",
        "    'Weight': [user_weight],\n",
        "    'Activity Level': [user_activity_level],\n",
        "    'Calories': [diet_plan[\"Calories Target\"]],\n",
        "    'Dietary Preference': [user_goal]\n",
        "})"
      ],
      "metadata": {
        "id": "sRmG7JcuZr0L"
      },
      "execution_count": null,
      "outputs": []
    },
    {
      "cell_type": "code",
      "source": [
        "Activity_Level_encoder = LabelEncoder()\n",
        "data['Activity Level'] = Activity_Level_encoder.fit_transform(data['Activity Level'])"
      ],
      "metadata": {
        "id": "rZPbbzCHakG-"
      },
      "execution_count": null,
      "outputs": []
    },
    {
      "cell_type": "code",
      "source": [
        "dietary_preference_encoder = LabelEncoder()\n",
        "data['Dietary Preference'] = dietary_preference_encoder.fit_transform(data['Dietary Preference'])"
      ],
      "metadata": {
        "id": "5CKNgjnTa7EE"
      },
      "execution_count": null,
      "outputs": []
    },
    {
      "cell_type": "code",
      "source": [
        "from sklearn.cluster import KMeans\n",
        "Kmeans = KMeans(n_clusters=1, random_state=42)\n",
        "data['Cluster'] = Kmeans.fit_predict(data[['Ages' , 'Weight' , 'Activity Level' , 'Calories' , 'Dietary Preference']])"
      ],
      "metadata": {
        "id": "FxObbtefbHLV"
      },
      "execution_count": null,
      "outputs": []
    },
    {
      "cell_type": "code",
      "source": [
        "print(\"\\nCentroids of the clusteres:\")\n",
        "print(Kmeans.cluster_centers_)"
      ],
      "metadata": {
        "colab": {
          "base_uri": "https://localhost:8080/"
        },
        "id": "bNYcMXc7rRSl",
        "outputId": "c6741671-899f-4e93-837a-52337206e925"
      },
      "execution_count": null,
      "outputs": [
        {
          "output_type": "stream",
          "name": "stdout",
          "text": [
            "\n",
            "Centroids of the clusteres:\n",
            "[[  50.   57.    0. 1710.    0.]]\n"
          ]
        }
      ]
    },
    {
      "cell_type": "code",
      "source": [
        "def simulate_weight_loss(weight, calories_target, calories_change, week=24):\n",
        "  weight_loss_per_week = 0.5 * (calories_change / 500)\n",
        "  total_weight_loss = weight_loss_per_week * week\n",
        "  new_weight = weight - total_weight_loss\n",
        "  return new_weight\n"
      ],
      "metadata": {
        "id": "2tRB7liMAs6n"
      },
      "execution_count": null,
      "outputs": []
    },
    {
      "cell_type": "code",
      "source": [
        "def simulate_health_changes(data, calories_change):\n",
        "  data['Predicted Weight After 6 Months'] = data.apply(lambda row: simulate_weight_loss(row['Weight'], row['Calories'], calories_change), axis=1)\n",
        "  return data"
      ],
      "metadata": {
        "id": "HxPLXDiHC0UK"
      },
      "execution_count": null,
      "outputs": []
    },
    {
      "cell_type": "code",
      "source": [
        "calories_change = diet_plan[\"Calories Target\"] - data['Calories'].mean()"
      ],
      "metadata": {
        "id": "fo5PQHikD_cH"
      },
      "execution_count": null,
      "outputs": []
    },
    {
      "cell_type": "code",
      "source": [
        "data_simulated = simulate_health_changes(data, calories_change)"
      ],
      "metadata": {
        "id": "mm7jfZm1G-LD"
      },
      "execution_count": null,
      "outputs": []
    },
    {
      "cell_type": "code",
      "source": [
        "print(\"\\nSimulated results  after applying in thevdietary plan:\")\n",
        "print(data_simulated[['Ages' , 'Weight' , 'Cluster' , 'Predicted Weight After 6 Months']].head())"
      ],
      "metadata": {
        "colab": {
          "base_uri": "https://localhost:8080/"
        },
        "id": "ejwAt3RRIeSI",
        "outputId": "ab4d6573-bc9c-469c-9728-a63aab4c75be"
      },
      "execution_count": null,
      "outputs": [
        {
          "output_type": "stream",
          "name": "stdout",
          "text": [
            "\n",
            "Simulated results  after applying in thevdietary plan:\n",
            "   Ages  Weight  Cluster  Predicted Weight After 6 Months\n",
            "0    50    57.0        0                             57.0\n"
          ]
        }
      ]
    },
    {
      "cell_type": "code",
      "source": [
        "grouped = data_simulated.groupby('Cluster')['Predicted Weight After 6 Months'].mean()\n",
        "print(\"\\nAverage predicted weight for each cluster:\")\n",
        "print(grouped)"
      ],
      "metadata": {
        "colab": {
          "base_uri": "https://localhost:8080/"
        },
        "id": "kos_mc7OVI29",
        "outputId": "25b51c3a-2326-414e-8bd2-178aca3da05d"
      },
      "execution_count": null,
      "outputs": [
        {
          "output_type": "stream",
          "name": "stdout",
          "text": [
            "\n",
            "Average predicted weight for each cluster:\n",
            "Cluster\n",
            "0    57.0\n",
            "Name: Predicted Weight After 6 Months, dtype: float64\n"
          ]
        }
      ]
    },
    {
      "cell_type": "code",
      "source": [
        "plt.scatter(data_simulated['Ages'], data_simulated['Predicted Weight After 6 Months'], c=data_simulated['Cluster'], cmap='viridis')\n",
        "plt.xlabel('Ages')\n",
        "plt.ylabel('Predicted Weight After 6 Months')\n",
        "plt.title('Predicted Weight After 6 Months Based on Dietary Plan')\n",
        "plt.show()\n",
        "\n"
      ],
      "metadata": {
        "colab": {
          "base_uri": "https://localhost:8080/",
          "height": 472
        },
        "id": "gbo3HyDGV4_8",
        "outputId": "ab173b0f-531a-4f4b-9d4f-4e7d3eeeecee"
      },
      "execution_count": null,
      "outputs": [
        {
          "output_type": "display_data",
          "data": {
            "text/plain": [
              "<Figure size 640x480 with 1 Axes>"
            ],
            "image/png": "[encoded data removed]"
          },
          "metadata": {}
        }
      ]
    },
    {
      "cell_type": "code",
      "source": [],
      "metadata": {
        "id": "MeKnYdCwhyba"
      },
      "execution_count": null,
      "outputs": []
    }
  ]
}